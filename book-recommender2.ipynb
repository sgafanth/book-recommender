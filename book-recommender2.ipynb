{
 "cells": [
  {
   "cell_type": "markdown",
   "metadata": {},
   "source": [
    "## Generating Personalized Book Recommendations from a Book Dataset \n",
    "#### Preprocessing\n",
    "- Bad data, duplicates, and outliers dealt with\n",
    "- Future potential to feature engineer new \"category\" feature\n",
    "    - currently takes too long to be achievable for this project\n",
    "- Binned continous numerical features\n",
    "    - Recommendations based on these features is a possibility\n",
    "\n",
    "#### Can generate recommendations in 3 ways:\n",
    "1) User-ID:\n",
    "    - A user can enter their (or someone elses) User-ID to show a highly rated book from 5 similar users - Collaborative filtering\n",
    "2) Book-Title:\n",
    "    - A user can enter a book title and be recommended 5 similar books - Collaborative filtering\n",
    "3) Top 10 most popular books:\n",
    "    - A user can simply view the 10 most popular books\n",
    "\n",
    "#### Evaluation\n",
    "- Both collaborative filtering based recommenders work as expected\n",
    "    - When tested on entering Book-Title, the item based recommender recommends books that are similar (human judgement)\n",
    "    - When tested on User-ID, the other recommender recommends highly rated books from similar users (human judgement)\n",
    "    - The top 10 most popular books are output sucessfully (human judgement)\n",
    "\n",
    "#### User Interface\n",
    "- All recommenders have a test cell to input different user-IDs/book-Titles and view the outputs easily\n",
    "    - This could be improved by implementing them into a Flask webapp but this was not possible in the time frame I had\n",
    "    - I would have ideally liked a feedback option for users to rate whether the recommendations were relevant to them or not\n",
    "        - this could be used to create an evaluation metric showing how well the model performs\n",
    "            - would require substantial user testing to get a good understanding of performance"
   ]
  },
  {
   "cell_type": "code",
   "execution_count": 1,
   "metadata": {},
   "outputs": [],
   "source": [
    "import pandas as pd\n",
    "import numpy as np\n",
    "from scipy.stats.mstats import winsorize\n",
    "import seaborn as sns\n",
    "import matplotlib.pyplot as plt\n",
    "%matplotlib inline"
   ]
  },
  {
   "cell_type": "markdown",
   "metadata": {},
   "source": [
    "#### Loading in the dataset"
   ]
  },
  {
   "cell_type": "code",
   "execution_count": 2,
   "metadata": {},
   "outputs": [
    {
     "name": "stderr",
     "output_type": "stream",
     "text": [
      "C:\\Users\\toyal\\AppData\\Local\\Temp\\ipykernel_27644\\3711711085.py:1: DtypeWarning: Columns (3) have mixed types. Specify dtype option on import or set low_memory=False.\n",
      "  book_df = pd.read_csv('Books.csv', sep=',', on_bad_lines = 'skip')\n"
     ]
    }
   ],
   "source": [
    "book_df = pd.read_csv('Books.csv', sep=',', on_bad_lines = 'skip')\n",
    "ratings_df = pd.read_csv('Ratings.csv', sep=',', on_bad_lines = 'skip')\n",
    "users_df = pd.read_csv('Users.csv', sep=',', on_bad_lines = 'skip')"
   ]
  },
  {
   "cell_type": "markdown",
   "metadata": {},
   "source": [
    "#### Feature Engineering\n",
    "- Can use Google's Book API to create a \"category\" column\n",
    "- This takes 2-3 hours to run so was infeasible with this project"
   ]
  },
  {
   "cell_type": "code",
   "execution_count": 3,
   "metadata": {},
   "outputs": [],
   "source": [
    "# import urllib.request\n",
    "# import json\n",
    "\n",
    "# base_api_link = \"https://www.googleapis.com/books/v1/volumes?q=isbn:\"\n",
    "\n",
    "# def get_category(isbn):\n",
    "#     with urllib.request.urlopen(base_api_link + isbn) as f:\n",
    "#         text = f.read()\n",
    "#     decoded_text = text.decode(\"utf-8\")\n",
    "#     obj = json.loads(decoded_text)\n",
    "#     try:\n",
    "#         volume_info = obj[\"items\"][0] \n",
    "#         print(volume_info[\"volumeInfo\"][\"categories\"])\n",
    "#         # displays title, summary, author, domain, page count and language\n",
    "#         return volume_info[\"volumeInfo\"][\"categories\"]\n",
    "#     except:\n",
    "#         return 'Missing'\n",
    "\n",
    "# #book_df['category'] = book_df.apply(lambda row: get_category(row.isbn), axis=1)\n",
    "\n",
    "# # vectorize is faster than apply, but API request is still too slow    \n",
    "# get_category_vectorized = np.vectorize(get_category)\n",
    "# book_df['category'] = get_category_vectorized(book_df['isbn'])\n"
   ]
  },
  {
   "cell_type": "markdown",
   "metadata": {},
   "source": [
    "#### Dropping irrelevant columns"
   ]
  },
  {
   "cell_type": "code",
   "execution_count": 4,
   "metadata": {},
   "outputs": [
    {
     "data": {
      "text/html": [
       "<div>\n",
       "<style scoped>\n",
       "    .dataframe tbody tr th:only-of-type {\n",
       "        vertical-align: middle;\n",
       "    }\n",
       "\n",
       "    .dataframe tbody tr th {\n",
       "        vertical-align: top;\n",
       "    }\n",
       "\n",
       "    .dataframe thead th {\n",
       "        text-align: right;\n",
       "    }\n",
       "</style>\n",
       "<table border=\"1\" class=\"dataframe\">\n",
       "  <thead>\n",
       "    <tr style=\"text-align: right;\">\n",
       "      <th></th>\n",
       "      <th>ISBN</th>\n",
       "      <th>Book-Title</th>\n",
       "      <th>Book-Author</th>\n",
       "      <th>Year-Of-Publication</th>\n",
       "      <th>Publisher</th>\n",
       "    </tr>\n",
       "  </thead>\n",
       "  <tbody>\n",
       "    <tr>\n",
       "      <th>0</th>\n",
       "      <td>0195153448</td>\n",
       "      <td>Classical Mythology</td>\n",
       "      <td>Mark P. O. Morford</td>\n",
       "      <td>2002</td>\n",
       "      <td>Oxford University Press</td>\n",
       "    </tr>\n",
       "    <tr>\n",
       "      <th>1</th>\n",
       "      <td>0002005018</td>\n",
       "      <td>Clara Callan</td>\n",
       "      <td>Richard Bruce Wright</td>\n",
       "      <td>2001</td>\n",
       "      <td>HarperFlamingo Canada</td>\n",
       "    </tr>\n",
       "    <tr>\n",
       "      <th>2</th>\n",
       "      <td>0060973129</td>\n",
       "      <td>Decision in Normandy</td>\n",
       "      <td>Carlo D'Este</td>\n",
       "      <td>1991</td>\n",
       "      <td>HarperPerennial</td>\n",
       "    </tr>\n",
       "    <tr>\n",
       "      <th>3</th>\n",
       "      <td>0374157065</td>\n",
       "      <td>Flu: The Story of the Great Influenza Pandemic...</td>\n",
       "      <td>Gina Bari Kolata</td>\n",
       "      <td>1999</td>\n",
       "      <td>Farrar Straus Giroux</td>\n",
       "    </tr>\n",
       "    <tr>\n",
       "      <th>4</th>\n",
       "      <td>0393045218</td>\n",
       "      <td>The Mummies of Urumchi</td>\n",
       "      <td>E. J. W. Barber</td>\n",
       "      <td>1999</td>\n",
       "      <td>W. W. Norton &amp;amp; Company</td>\n",
       "    </tr>\n",
       "  </tbody>\n",
       "</table>\n",
       "</div>"
      ],
      "text/plain": [
       "         ISBN                                         Book-Title  \\\n",
       "0  0195153448                                Classical Mythology   \n",
       "1  0002005018                                       Clara Callan   \n",
       "2  0060973129                               Decision in Normandy   \n",
       "3  0374157065  Flu: The Story of the Great Influenza Pandemic...   \n",
       "4  0393045218                             The Mummies of Urumchi   \n",
       "\n",
       "            Book-Author Year-Of-Publication                   Publisher  \n",
       "0    Mark P. O. Morford                2002     Oxford University Press  \n",
       "1  Richard Bruce Wright                2001       HarperFlamingo Canada  \n",
       "2          Carlo D'Este                1991             HarperPerennial  \n",
       "3      Gina Bari Kolata                1999        Farrar Straus Giroux  \n",
       "4       E. J. W. Barber                1999  W. W. Norton &amp; Company  "
      ]
     },
     "execution_count": 4,
     "metadata": {},
     "output_type": "execute_result"
    }
   ],
   "source": [
    "book_df.drop(columns=['Image-URL-S','Image-URL-M','Image-URL-L'], inplace=True)\n",
    "book_df.head(5)"
   ]
  },
  {
   "cell_type": "markdown",
   "metadata": {},
   "source": [
    "#### Changing location to country to simplify\n",
    "- in future could create recommendations based on country or age\n",
    "    - so these features are good to keep"
   ]
  },
  {
   "cell_type": "code",
   "execution_count": 5,
   "metadata": {},
   "outputs": [
    {
     "data": {
      "text/html": [
       "<div>\n",
       "<style scoped>\n",
       "    .dataframe tbody tr th:only-of-type {\n",
       "        vertical-align: middle;\n",
       "    }\n",
       "\n",
       "    .dataframe tbody tr th {\n",
       "        vertical-align: top;\n",
       "    }\n",
       "\n",
       "    .dataframe thead th {\n",
       "        text-align: right;\n",
       "    }\n",
       "</style>\n",
       "<table border=\"1\" class=\"dataframe\">\n",
       "  <thead>\n",
       "    <tr style=\"text-align: right;\">\n",
       "      <th></th>\n",
       "      <th>User-ID</th>\n",
       "      <th>Age</th>\n",
       "      <th>Country</th>\n",
       "    </tr>\n",
       "  </thead>\n",
       "  <tbody>\n",
       "    <tr>\n",
       "      <th>0</th>\n",
       "      <td>1</td>\n",
       "      <td>NaN</td>\n",
       "      <td>usa</td>\n",
       "    </tr>\n",
       "    <tr>\n",
       "      <th>1</th>\n",
       "      <td>2</td>\n",
       "      <td>18.0</td>\n",
       "      <td>usa</td>\n",
       "    </tr>\n",
       "    <tr>\n",
       "      <th>2</th>\n",
       "      <td>3</td>\n",
       "      <td>NaN</td>\n",
       "      <td>russia</td>\n",
       "    </tr>\n",
       "    <tr>\n",
       "      <th>3</th>\n",
       "      <td>4</td>\n",
       "      <td>17.0</td>\n",
       "      <td>portugal</td>\n",
       "    </tr>\n",
       "    <tr>\n",
       "      <th>4</th>\n",
       "      <td>5</td>\n",
       "      <td>NaN</td>\n",
       "      <td>united kingdom</td>\n",
       "    </tr>\n",
       "  </tbody>\n",
       "</table>\n",
       "</div>"
      ],
      "text/plain": [
       "   User-ID   Age         Country\n",
       "0        1   NaN             usa\n",
       "1        2  18.0             usa\n",
       "2        3   NaN          russia\n",
       "3        4  17.0        portugal\n",
       "4        5   NaN  united kingdom"
      ]
     },
     "execution_count": 5,
     "metadata": {},
     "output_type": "execute_result"
    }
   ],
   "source": [
    "users_df['Country'] = users_df['Location'].str.split(',').str[-1].str.strip()\n",
    "users_df.drop(columns=['Location'], inplace=True)\n",
    "users_df.head(5)"
   ]
  },
  {
   "cell_type": "markdown",
   "metadata": {},
   "source": [
    "#### Check cardinality of categorical columns"
   ]
  },
  {
   "cell_type": "code",
   "execution_count": 6,
   "metadata": {},
   "outputs": [
    {
     "data": {
      "text/plain": [
       "ISBN           271360\n",
       "Book-Title     242135\n",
       "Book-Author    102023\n",
       "Publisher       16807\n",
       "dtype: int64"
      ]
     },
     "execution_count": 6,
     "metadata": {},
     "output_type": "execute_result"
    }
   ],
   "source": [
    "book_df[['ISBN','Book-Title','Book-Author','Publisher']].nunique()"
   ]
  },
  {
   "cell_type": "code",
   "execution_count": 7,
   "metadata": {},
   "outputs": [
    {
     "data": {
      "text/plain": [
       "Country    709\n",
       "dtype: int64"
      ]
     },
     "execution_count": 7,
     "metadata": {},
     "output_type": "execute_result"
    }
   ],
   "source": [
    "users_df[['Country']].nunique()"
   ]
  },
  {
   "cell_type": "markdown",
   "metadata": {},
   "source": [
    "#### Checking for 0s where unexpected\n",
    "- 3570 books have no publication year\n",
    "- remove these as imputation would be misleading"
   ]
  },
  {
   "cell_type": "code",
   "execution_count": 8,
   "metadata": {},
   "outputs": [
    {
     "data": {
      "text/plain": [
       "ISBN                      0\n",
       "Book-Title                0\n",
       "Book-Author               0\n",
       "Year-Of-Publication    3570\n",
       "Publisher                 0\n",
       "dtype: int64"
      ]
     },
     "execution_count": 8,
     "metadata": {},
     "output_type": "execute_result"
    }
   ],
   "source": [
    "book_df[book_df == 0].count() "
   ]
  },
  {
   "cell_type": "code",
   "execution_count": 9,
   "metadata": {},
   "outputs": [],
   "source": [
    "book_df = book_df[book_df['Year-Of-Publication'] != 0]"
   ]
  },
  {
   "cell_type": "markdown",
   "metadata": {},
   "source": [
    "#### Check for nulls\n",
    "##### book_df:\n",
    "- 2 null authors\n",
    "- 2 null \n",
    "##### ratings_df:\n",
    "- 0 null\n",
    "##### users_df:\n",
    "- 39.5% of users have null age\n",
    "- impute with -1 temporarily, this will be binned as \"Missing\" later"
   ]
  },
  {
   "cell_type": "code",
   "execution_count": 10,
   "metadata": {},
   "outputs": [
    {
     "data": {
      "text/plain": [
       "ISBN                   0\n",
       "Book-Title             0\n",
       "Book-Author            1\n",
       "Year-Of-Publication    0\n",
       "Publisher              2\n",
       "dtype: int64"
      ]
     },
     "execution_count": 10,
     "metadata": {},
     "output_type": "execute_result"
    }
   ],
   "source": [
    "book_df.isnull().sum()"
   ]
  },
  {
   "cell_type": "code",
   "execution_count": 11,
   "metadata": {},
   "outputs": [],
   "source": [
    "book_df = book_df[book_df['Book-Author'].notna() & book_df['Publisher'].notna()]"
   ]
  },
  {
   "cell_type": "code",
   "execution_count": 12,
   "metadata": {},
   "outputs": [
    {
     "data": {
      "text/plain": [
       "User-ID        0\n",
       "ISBN           0\n",
       "Book-Rating    0\n",
       "dtype: int64"
      ]
     },
     "execution_count": 12,
     "metadata": {},
     "output_type": "execute_result"
    }
   ],
   "source": [
    "ratings_df.isnull().sum()"
   ]
  },
  {
   "cell_type": "code",
   "execution_count": 13,
   "metadata": {},
   "outputs": [
    {
     "data": {
      "text/plain": [
       "User-ID         0\n",
       "Age        110762\n",
       "Country         0\n",
       "dtype: int64"
      ]
     },
     "execution_count": 13,
     "metadata": {},
     "output_type": "execute_result"
    }
   ],
   "source": [
    "users_df.isnull().sum()"
   ]
  },
  {
   "cell_type": "code",
   "execution_count": 14,
   "metadata": {},
   "outputs": [],
   "source": [
    "# filling missing age as -1 to later bin as missing\n",
    "users_df['Age'] = users_df['Age'].fillna(-1)"
   ]
  },
  {
   "cell_type": "markdown",
   "metadata": {},
   "source": [
    "#### Checking types of dataframe columns\n",
    "- book_df Year-Of-Publication should be numeric, contains str errors\n",
    "- ratings_df change User-ID to object"
   ]
  },
  {
   "cell_type": "code",
   "execution_count": 15,
   "metadata": {},
   "outputs": [
    {
     "data": {
      "text/plain": [
       "ISBN                   object\n",
       "Book-Title             object\n",
       "Book-Author            object\n",
       "Year-Of-Publication    object\n",
       "Publisher              object\n",
       "dtype: object"
      ]
     },
     "execution_count": 15,
     "metadata": {},
     "output_type": "execute_result"
    }
   ],
   "source": [
    "book_df.dtypes"
   ]
  },
  {
   "cell_type": "code",
   "execution_count": 16,
   "metadata": {},
   "outputs": [],
   "source": [
    "book_df[['Year-Of-Publication']] = book_df[['Year-Of-Publication']].apply(pd.to_numeric, errors='coerce')\n",
    "book_df = book_df[book_df['Year-Of-Publication'].notna()]\n",
    "book_df['Year-Of-Publication'] = book_df['Year-Of-Publication'].astype(int)"
   ]
  },
  {
   "cell_type": "code",
   "execution_count": 17,
   "metadata": {},
   "outputs": [
    {
     "data": {
      "text/plain": [
       "User-ID         int64\n",
       "ISBN           object\n",
       "Book-Rating     int64\n",
       "dtype: object"
      ]
     },
     "execution_count": 17,
     "metadata": {},
     "output_type": "execute_result"
    }
   ],
   "source": [
    "ratings_df.dtypes"
   ]
  },
  {
   "cell_type": "code",
   "execution_count": 18,
   "metadata": {},
   "outputs": [],
   "source": [
    "ratings_df['User-ID'] = ratings_df['User-ID'].astype(str)"
   ]
  },
  {
   "cell_type": "code",
   "execution_count": 19,
   "metadata": {},
   "outputs": [
    {
     "data": {
      "text/plain": [
       "User-ID      int64\n",
       "Age        float64\n",
       "Country     object\n",
       "dtype: object"
      ]
     },
     "execution_count": 19,
     "metadata": {},
     "output_type": "execute_result"
    }
   ],
   "source": [
    "users_df.dtypes"
   ]
  },
  {
   "cell_type": "code",
   "execution_count": 20,
   "metadata": {},
   "outputs": [],
   "source": [
    "users_df['User-ID'] = users_df['User-ID'].astype(str)"
   ]
  },
  {
   "cell_type": "markdown",
   "metadata": {},
   "source": [
    "#### Check for negatives on numerical columns\n",
    "- None present"
   ]
  },
  {
   "cell_type": "code",
   "execution_count": 21,
   "metadata": {},
   "outputs": [
    {
     "data": {
      "text/plain": [
       "False"
      ]
     },
     "execution_count": 21,
     "metadata": {},
     "output_type": "execute_result"
    }
   ],
   "source": [
    "(book_df[['Year-Of-Publication']].values < 0).any()"
   ]
  },
  {
   "cell_type": "code",
   "execution_count": 22,
   "metadata": {},
   "outputs": [
    {
     "data": {
      "text/plain": [
       "False"
      ]
     },
     "execution_count": 22,
     "metadata": {},
     "output_type": "execute_result"
    }
   ],
   "source": [
    "(ratings_df[['Book-Rating']].values < 0).any()"
   ]
  },
  {
   "cell_type": "code",
   "execution_count": 23,
   "metadata": {},
   "outputs": [
    {
     "data": {
      "text/plain": [
       "False"
      ]
     },
     "execution_count": 23,
     "metadata": {},
     "output_type": "execute_result"
    }
   ],
   "source": [
    "# Expected to contain below 0\n",
    "# check if contains below -1\n",
    "(users_df[['Age']].values < -1).any()"
   ]
  },
  {
   "cell_type": "markdown",
   "metadata": {},
   "source": [
    "#### Checking for duplicated rows and duplicated ISBN/User-IDs\n",
    "- 0 duplicates"
   ]
  },
  {
   "cell_type": "code",
   "execution_count": 24,
   "metadata": {},
   "outputs": [
    {
     "data": {
      "text/plain": [
       "0"
      ]
     },
     "execution_count": 24,
     "metadata": {},
     "output_type": "execute_result"
    }
   ],
   "source": [
    "len(book_df[book_df.duplicated()])"
   ]
  },
  {
   "cell_type": "code",
   "execution_count": 25,
   "metadata": {},
   "outputs": [
    {
     "data": {
      "text/plain": [
       "0"
      ]
     },
     "execution_count": 25,
     "metadata": {},
     "output_type": "execute_result"
    }
   ],
   "source": [
    "len(ratings_df[ratings_df.duplicated()])"
   ]
  },
  {
   "cell_type": "code",
   "execution_count": 26,
   "metadata": {},
   "outputs": [
    {
     "data": {
      "text/plain": [
       "0"
      ]
     },
     "execution_count": 26,
     "metadata": {},
     "output_type": "execute_result"
    }
   ],
   "source": [
    "len(users_df[users_df.duplicated()])"
   ]
  },
  {
   "cell_type": "code",
   "execution_count": 27,
   "metadata": {},
   "outputs": [],
   "source": [
    "# book_df.duplicated(subset=['ISBN']).any() # = False\n",
    "# users_df.duplicated(subset=['User-ID']).any() # = False\n"
   ]
  },
  {
   "cell_type": "markdown",
   "metadata": {},
   "source": [
    "#### Visualising the distribution of numerical columns and checking skew\n",
    "- Can see book_df Year-Of-Publication and user_df Age suffer from skew greater than 2 or less than -2\n",
    "- remove outliers in Age fixes this problem\n",
    "- likely 0 rating is a placeholder for unreviewed so remove rows with a 0 rating"
   ]
  },
  {
   "cell_type": "code",
   "execution_count": 28,
   "metadata": {},
   "outputs": [
    {
     "name": "stdout",
     "output_type": "stream",
     "text": [
      "Year-Of-Publication   -15.785953\n",
      "dtype: float64\n",
      "Book-Rating    0.733641\n",
      "dtype: float64\n",
      "Age    0.583422\n",
      "dtype: float64\n"
     ]
    },
    {
     "data": {
      "text/plain": [
       "Text(0.5, 1.0, 'Age')"
      ]
     },
     "execution_count": 28,
     "metadata": {},
     "output_type": "execute_result"
    },
    {
     "data": {
      "image/png": "[encoded data removed]",
      "text/plain": [
       "<Figure size 2000x3000 with 3 Axes>"
      ]
     },
     "metadata": {},
     "output_type": "display_data"
    }
   ],
   "source": [
    "print(book_df[['Year-Of-Publication']].skew())\n",
    "print(ratings_df[['Book-Rating']].skew())\n",
    "print(users_df[['Age']].skew())\n",
    "\n",
    "fig = plt.figure(figsize=(20,30))\n",
    "\n",
    "plt.subplot(3,3,1)\n",
    "sns.histplot(book_df['Year-Of-Publication'], bins = 50, kde = True)\n",
    "plt.title(\"Year\")\n",
    "\n",
    "plt.subplot(3,3,2)\n",
    "sns.histplot(ratings_df['Book-Rating'], bins = 10)\n",
    "plt.title(\"Rating\")\n",
    "\n",
    "plt.subplot(3,3,3)\n",
    "sns.histplot(users_df['Age'], bins = 50, kde = True)\n",
    "plt.title(\"Age\")"
   ]
  },
  {
   "cell_type": "code",
   "execution_count": 29,
   "metadata": {},
   "outputs": [],
   "source": [
    "# winsorise age - removing the impossible ages is not ideal\n",
    "users_df['Age'] = winsorize(users_df['Age'], limits=[0, 0.0015])\n",
    "# winsorising year of publication to deal with outliers\n",
    "book_df['Year-Of-Publication'] = winsorize(book_df['Year-Of-Publication'], limits=[0.0025, 0.0025])\n",
    "# remove ratings of 0\n",
    "ratings_df = ratings_df[ratings_df['Book-Rating']!=0]"
   ]
  },
  {
   "cell_type": "markdown",
   "metadata": {},
   "source": [
    "#### Checking skew\n",
    "- Year-Of-Publication is highly negatively skewed\n",
    "    - This is okay for this project"
   ]
  },
  {
   "cell_type": "code",
   "execution_count": 30,
   "metadata": {},
   "outputs": [
    {
     "name": "stdout",
     "output_type": "stream",
     "text": [
      "Year-Of-Publication   -15.786095\n",
      "dtype: float64\n",
      "Book-Rating   -0.655615\n",
      "dtype: float64\n",
      "Age    0.454231\n",
      "dtype: float64\n"
     ]
    }
   ],
   "source": [
    "print(book_df[['Year-Of-Publication']].skew())\n",
    "print(ratings_df[['Book-Rating']].skew())\n",
    "print(users_df[['Age']].skew())"
   ]
  },
  {
   "cell_type": "markdown",
   "metadata": {},
   "source": [
    "#### Bin publication year and age"
   ]
  },
  {
   "cell_type": "code",
   "execution_count": 31,
   "metadata": {},
   "outputs": [],
   "source": [
    "age_edges = [-2, 0, 15, 30, 45, 60, 75, 90, 400]\n",
    "age_labels = ['Missing','0-14','15-29','30-44','45-59','60-74','75-89','90+']\n",
    "users_df['Age'] = pd.cut(users_df['Age'], age_edges, right=False, labels=age_labels).astype(str)\n",
    "\n",
    "year_edges = [1950, 1960, 1970, 1980, 1990, 2000, 2010]\n",
    "year_labels = ['50s or earlier','60s','70s','80s','90s','00s']\n",
    "book_df['Year-Of-Publication'] = pd.cut(book_df['Year-Of-Publication'], year_edges, right=False, labels= year_labels).astype(str)"
   ]
  },
  {
   "cell_type": "code",
   "execution_count": 32,
   "metadata": {},
   "outputs": [
    {
     "data": {
      "text/plain": [
       "Text(0.5, 1.0, 'Age')"
      ]
     },
     "execution_count": 32,
     "metadata": {},
     "output_type": "execute_result"
    },
    {
     "data": {
      "image/png": "[encoded data removed]",
      "text/plain": [
       "<Figure size 2000x3000 with 3 Axes>"
      ]
     },
     "metadata": {},
     "output_type": "display_data"
    }
   ],
   "source": [
    "fig = plt.figure(figsize=(20,30))\n",
    "\n",
    "plt.subplot(3,3,1)\n",
    "book_df['Year-Of-Publication'].value_counts(sort=False).loc[year_labels].plot(kind='bar', width=0.95)\n",
    "plt.title(\"Year\")\n",
    "\n",
    "plt.subplot(3,3,2)\n",
    "sns.histplot(ratings_df['Book-Rating'], bins = 10)\n",
    "plt.title(\"Rating\")\n",
    "\n",
    "plt.subplot(3,3,3)\n",
    "users_df['Age'].value_counts(sort=False).loc[age_labels].plot(kind='bar', width=0.96)\n",
    "plt.title(\"Age\")"
   ]
  },
  {
   "cell_type": "markdown",
   "metadata": {},
   "source": [
    "## Recommender system\n",
    "- Can recommend books based on:\n",
    "    - Book-Name\n",
    "    - User-ID\n",
    "- Also show:\n",
    "    - 10 most popular books including number of ratings and average rating"
   ]
  },
  {
   "cell_type": "markdown",
   "metadata": {},
   "source": [
    "#### Merge the 3 dataframes into 1"
   ]
  },
  {
   "cell_type": "code",
   "execution_count": 33,
   "metadata": {},
   "outputs": [
    {
     "data": {
      "text/html": [
       "<div>\n",
       "<style scoped>\n",
       "    .dataframe tbody tr th:only-of-type {\n",
       "        vertical-align: middle;\n",
       "    }\n",
       "\n",
       "    .dataframe tbody tr th {\n",
       "        vertical-align: top;\n",
       "    }\n",
       "\n",
       "    .dataframe thead th {\n",
       "        text-align: right;\n",
       "    }\n",
       "</style>\n",
       "<table border=\"1\" class=\"dataframe\">\n",
       "  <thead>\n",
       "    <tr style=\"text-align: right;\">\n",
       "      <th></th>\n",
       "      <th>User-ID</th>\n",
       "      <th>Book-Rating</th>\n",
       "      <th>Book-Title</th>\n",
       "      <th>Book-Author</th>\n",
       "      <th>Year-Of-Publication</th>\n",
       "      <th>Publisher</th>\n",
       "      <th>Age</th>\n",
       "      <th>Country</th>\n",
       "    </tr>\n",
       "  </thead>\n",
       "  <tbody>\n",
       "    <tr>\n",
       "      <th>0</th>\n",
       "      <td>276726</td>\n",
       "      <td>5</td>\n",
       "      <td>Rites of Passage</td>\n",
       "      <td>Judith Rae</td>\n",
       "      <td>00s</td>\n",
       "      <td>Heinle</td>\n",
       "      <td>Missing</td>\n",
       "      <td>usa</td>\n",
       "    </tr>\n",
       "    <tr>\n",
       "      <th>1</th>\n",
       "      <td>276729</td>\n",
       "      <td>3</td>\n",
       "      <td>Help!: Level 1</td>\n",
       "      <td>Philip Prowse</td>\n",
       "      <td>90s</td>\n",
       "      <td>Cambridge University Press</td>\n",
       "      <td>15-29</td>\n",
       "      <td>croatia</td>\n",
       "    </tr>\n",
       "    <tr>\n",
       "      <th>2</th>\n",
       "      <td>276729</td>\n",
       "      <td>6</td>\n",
       "      <td>The Amsterdam Connection : Level 4 (Cambridge ...</td>\n",
       "      <td>Sue Leather</td>\n",
       "      <td>00s</td>\n",
       "      <td>Cambridge University Press</td>\n",
       "      <td>15-29</td>\n",
       "      <td>croatia</td>\n",
       "    </tr>\n",
       "    <tr>\n",
       "      <th>3</th>\n",
       "      <td>276744</td>\n",
       "      <td>7</td>\n",
       "      <td>A Painted House</td>\n",
       "      <td>JOHN GRISHAM</td>\n",
       "      <td>00s</td>\n",
       "      <td>Doubleday</td>\n",
       "      <td>Missing</td>\n",
       "      <td>usa</td>\n",
       "    </tr>\n",
       "    <tr>\n",
       "      <th>4</th>\n",
       "      <td>11676</td>\n",
       "      <td>10</td>\n",
       "      <td>A Painted House</td>\n",
       "      <td>JOHN GRISHAM</td>\n",
       "      <td>00s</td>\n",
       "      <td>Doubleday</td>\n",
       "      <td>Missing</td>\n",
       "      <td>n/a</td>\n",
       "    </tr>\n",
       "  </tbody>\n",
       "</table>\n",
       "</div>"
      ],
      "text/plain": [
       "  User-ID  Book-Rating                                         Book-Title  \\\n",
       "0  276726            5                                   Rites of Passage   \n",
       "1  276729            3                                     Help!: Level 1   \n",
       "2  276729            6  The Amsterdam Connection : Level 4 (Cambridge ...   \n",
       "3  276744            7                                    A Painted House   \n",
       "4   11676           10                                    A Painted House   \n",
       "\n",
       "     Book-Author Year-Of-Publication                   Publisher      Age  \\\n",
       "0     Judith Rae                 00s                      Heinle  Missing   \n",
       "1  Philip Prowse                 90s  Cambridge University Press    15-29   \n",
       "2    Sue Leather                 00s  Cambridge University Press    15-29   \n",
       "3   JOHN GRISHAM                 00s                   Doubleday  Missing   \n",
       "4   JOHN GRISHAM                 00s                   Doubleday  Missing   \n",
       "\n",
       "   Country  \n",
       "0      usa  \n",
       "1  croatia  \n",
       "2  croatia  \n",
       "3      usa  \n",
       "4      n/a  "
      ]
     },
     "execution_count": 33,
     "metadata": {},
     "output_type": "execute_result"
    }
   ],
   "source": [
    "ratings_books_merge_df = ratings_df.merge(book_df,on='ISBN')\n",
    "ratings_books_merge_df.drop(columns='ISBN',axis=1,inplace=True)\n",
    "df = ratings_books_merge_df.merge(users_df, on=\"User-ID\")\n",
    "df.head(5)\n"
   ]
  },
  {
   "cell_type": "markdown",
   "metadata": {},
   "source": [
    "### Item based recommendations\n",
    "- Recommend similar books to the specified book by finding popular books that have scored similarly by knowledgeable users"
   ]
  },
  {
   "cell_type": "code",
   "execution_count": 34,
   "metadata": {},
   "outputs": [],
   "source": [
    "from sklearn.metrics.pairwise import cosine_similarity \n",
    "\n",
    "# get indices of knowledgable users\n",
    "x = df.groupby('User-ID').count()['Book-Rating']>100\n",
    "knowledgable_users = x[x].index\n",
    "\n",
    "# filter df to only contain knowledgeable users\n",
    "filtered_rating = df[df['User-ID'].isin(knowledgable_users)]\n",
    "\n",
    "# filter so that only books with over 10 reviews are present (popular books)\n",
    "y = filtered_rating.groupby('Book-Title').count()['Book-Rating']>=11\n",
    "popular_books = y[y].index\n",
    "final_ratings =  filtered_rating[filtered_rating['Book-Title'].isin(popular_books)]\n",
    "\n",
    "# create a pivot table of knowledgeable users and popular books\n",
    "book_pt = final_ratings.pivot_table(index='Book-Title',columns='User-ID'\n",
    "                          ,values='Book-Rating')\n",
    "book_pt.fillna(0,inplace=True)\n",
    "\n",
    "# create a matrix of books cosine similarity to one another\n",
    "book_similarity_score = cosine_similarity(book_pt)"
   ]
  },
  {
   "cell_type": "code",
   "execution_count": 35,
   "metadata": {},
   "outputs": [],
   "source": [
    "def recommend(book_name):\n",
    "    if book_name not in final_ratings[\"Book-Title\"].values:\n",
    "        print(\"Book not found\")\n",
    "    else:\n",
    "        index = np.where(book_pt.index==book_name)[0][0]\n",
    "        # use index to return the 5 top scoring books from a sorted list of similarity scores of other books\n",
    "        similar_books = sorted(list(enumerate(book_similarity_score[index])),key=lambda x:x[1], reverse=True)[1:6]\n",
    "\n",
    "        recommended_books = [f'\\033[4mBased on \"{book_name}\", you may like the following books:\\033[0m']\n",
    "        \n",
    "        # return the titles and authors of 5 similar books \n",
    "        for i in similar_books:\n",
    "            temp_df = book_df[book_df['Book-Title'] == book_pt.index[i[0]]]\n",
    "            recommended_books.append(str(temp_df.drop_duplicates('Book-Title')['Book-Title'].values[0]))\n",
    "        return print('\\n'.join(map(str, recommended_books)))"
   ]
  },
  {
   "cell_type": "markdown",
   "metadata": {},
   "source": [
    "#### Test area\n",
    "- Input test books\n",
    "- Works as expected:\n",
    "    - Harry potter returns other Harry potter books\n",
    "    - 1984 returns similar dystopian books like Brave New World\n",
    "    - The Hobbit returns similar books like The Lord of the Rings"
   ]
  },
  {
   "cell_type": "code",
   "execution_count": 36,
   "metadata": {},
   "outputs": [
    {
     "name": "stdout",
     "output_type": "stream",
     "text": [
      "\u001b[4mBased on \"The Hobbit\", you may like the following books:\u001b[0m\n",
      "The Return of the King (The Lord of the Rings, Part 3)\n",
      "Brave New World\n",
      "The Girl Who Loved Tom Gordon\n",
      "God Emperor of Dune (Dune Chronicles, Book 4)\n",
      "The Edible Woman\n"
     ]
    }
   ],
   "source": [
    "# Test books:\n",
    "# \"Harry Potter and the Chamber of Secrets (Book 2)\"\n",
    "# \"1984\"\n",
    "# \"Brave New World\"\n",
    "# \"The Hobbit\"\n",
    "# \"The Fellowship of the Ring (The Lord of the Rings, Part 1)\"\n",
    "\n",
    "recommend(\"The Hobbit\")"
   ]
  },
  {
   "cell_type": "markdown",
   "metadata": {},
   "source": [
    "#### User based recommendations\n",
    "- input user ID to return the top book of 5 similar users\n"
   ]
  },
  {
   "cell_type": "code",
   "execution_count": 38,
   "metadata": {},
   "outputs": [],
   "source": [
    "# keep only users who vote more than 100 times\n",
    "new_df=df[df['User-ID'].map(df['User-ID'].value_counts()) > 100]  \n",
    "\n",
    "# create pivot table of knowledgeable users with their book ratings\n",
    "users_pt=new_df.pivot_table(index=[\"User-ID\"],columns=[\"Book-Title\"],values=\"Book-Rating\")\n",
    "users_pt.fillna(0,inplace=True)"
   ]
  },
  {
   "cell_type": "code",
   "execution_count": 38,
   "metadata": {},
   "outputs": [],
   "source": [
    "\n",
    "user_similarity=cosine_similarity(users_pt)\n",
    "\n",
    "def user_based(id):\n",
    "    if id not in new_df[\"User-ID\"].values:\n",
    "        print(\"User not found\")\n",
    "        \n",
    "    else:\n",
    "        index=np.where(users_pt.index == id)[0][0]\n",
    "        \n",
    "        # use index to return the 5 top scoring users from a sorted list of similarity scores of other users\n",
    "        similar_users= sorted(list(enumerate(user_similarity[index])), key = lambda x:x[1], reverse=True)[1:6]\n",
    "    \n",
    "        user_rec=[]\n",
    "    \n",
    "        for i in similar_users:\n",
    "                # get similar users book data\n",
    "                data=df[df[\"User-ID\"] == users_pt.index[i[0]]]\n",
    "                user_rec.extend(list(data.drop_duplicates(\"User-ID\")[\"User-ID\"].values))\n",
    "\n",
    "        \n",
    "        x = new_df[new_df[\"User-ID\"]==id]\n",
    "        recommended_books = [f'\\033[4mBased on user id:\"{id}\", you may like the following books:\\033[0m']\n",
    "        user = list(user_rec)\n",
    "\n",
    "        # for each similar user, sort their books and choose the top book to recommend\n",
    "        for i in user:\n",
    "            y = new_df[(new_df[\"User-ID\"]==i)]\n",
    "            books = (y.loc[~y[\"Book-Title\"].isin(x[\"Book-Title\"]),:]).sort_values([\"Book-Rating\"],ascending=False)[0:1]\n",
    "            recommended_books.extend(books[\"Book-Title\"].values)\n",
    "        recommended_books = recommended_books\n",
    "    return print('\\n'.join(map(str, recommended_books)))"
   ]
  },
  {
   "cell_type": "markdown",
   "metadata": {},
   "source": [
    "#### Test Area\n",
    "- input test user IDs\n",
    "- output works as expected, showing the top book from 5 similar users"
   ]
  },
  {
   "cell_type": "code",
   "execution_count": 39,
   "metadata": {},
   "outputs": [
    {
     "name": "stdout",
     "output_type": "stream",
     "text": [
      "\u001b[4mBased on user id:\"69389\", you may like the following books:\u001b[0m\n",
      "Secrets\n",
      "Eyes of Prey\n",
      "The Green Mile\n",
      "Violets Are Blue\n",
      "J is for Judgment\n"
     ]
    }
   ],
   "source": [
    "# Test User-IDs:\n",
    "# \"16795\"\n",
    "# \"11676\"\n",
    "# \"114368\"\n",
    "# \"69389\"\n",
    "\n",
    "user_based('69389')"
   ]
  },
  {
   "cell_type": "markdown",
   "metadata": {},
   "source": [
    "#### Most popular books\n",
    "- create a dataframe containings number of ratings and average rating\n",
    "- output the 10 most popular books, with their average rating\n",
    "- this will be useful to a user wanting to view popular books"
   ]
  },
  {
   "cell_type": "code",
   "execution_count": 40,
   "metadata": {},
   "outputs": [],
   "source": [
    "number_ratings_df = df.groupby('Book-Title').count()['Book-Rating'].reset_index()\n",
    "number_ratings_df.columns = ['Book-Title', 'Number-Ratings']\n",
    "\n",
    "average_ratings_df = df.groupby('Book-Title').mean(numeric_only=True)['Book-Rating'].reset_index()\n",
    "average_ratings_df.columns = ['Book-Title','Average-Rating']\n",
    "\n",
    "book_scores_df = number_ratings_df.merge(average_ratings_df, on='Book-Title').sort_values(by=['Number-Ratings'], ascending=False).reset_index(drop=True)\n"
   ]
  },
  {
   "cell_type": "code",
   "execution_count": 41,
   "metadata": {},
   "outputs": [
    {
     "name": "stdout",
     "output_type": "stream",
     "text": [
      "\u001b[4mThese are the 10 most popular books:\u001b[0m\n",
      "1)\n",
      "\u001b[4mTitle:\u001b[0m The Lovely Bones: A Novel \u001b[4mNumber of Ratings:\u001b[0m 707 \u001b[4mAverage Rating:\u001b[0m 8.185289957567186\n",
      "2)\n",
      "\u001b[4mTitle:\u001b[0m Wild Animus \u001b[4mNumber of Ratings:\u001b[0m 581 \u001b[4mAverage Rating:\u001b[0m 4.3907056798623065\n",
      "3)\n",
      "\u001b[4mTitle:\u001b[0m The Da Vinci Code \u001b[4mNumber of Ratings:\u001b[0m 494 \u001b[4mAverage Rating:\u001b[0m 8.43927125506073\n",
      "4)\n",
      "\u001b[4mTitle:\u001b[0m The Secret Life of Bees \u001b[4mNumber of Ratings:\u001b[0m 406 \u001b[4mAverage Rating:\u001b[0m 8.47783251231527\n",
      "5)\n",
      "\u001b[4mTitle:\u001b[0m The Nanny Diaries: A Novel \u001b[4mNumber of Ratings:\u001b[0m 393 \u001b[4mAverage Rating:\u001b[0m 7.43765903307888\n",
      "6)\n",
      "\u001b[4mTitle:\u001b[0m The Red Tent (Bestselling Backlist) \u001b[4mNumber of Ratings:\u001b[0m 383 \u001b[4mAverage Rating:\u001b[0m 8.182767624020888\n",
      "7)\n",
      "\u001b[4mTitle:\u001b[0m Bridget Jones's Diary \u001b[4mNumber of Ratings:\u001b[0m 377 \u001b[4mAverage Rating:\u001b[0m 7.625994694960212\n",
      "8)\n",
      "\u001b[4mTitle:\u001b[0m A Painted House \u001b[4mNumber of Ratings:\u001b[0m 366 \u001b[4mAverage Rating:\u001b[0m 7.398907103825136\n",
      "9)\n",
      "\u001b[4mTitle:\u001b[0m Life of Pi \u001b[4mNumber of Ratings:\u001b[0m 336 \u001b[4mAverage Rating:\u001b[0m 8.080357142857142\n",
      "10)\n",
      "\u001b[4mTitle:\u001b[0m Harry Potter and the Chamber of Secrets (Book 2) \u001b[4mNumber of Ratings:\u001b[0m 326 \u001b[4mAverage Rating:\u001b[0m 8.840490797546012\n"
     ]
    }
   ],
   "source": [
    "top_10_books = book_scores_df.iloc[0:10]\n",
    "top_10_books_output = [f'\\033[4mThese are the 10 most popular books:\\033[0m']\n",
    "for i in range(10):\n",
    "    top_10_books_output.append(f'\\n{i+1})\\n')\n",
    "    top_10_books_output.append('\\033[4mTitle:\\033[0m ')\n",
    "    top_10_books_output.append(str(top_10_books.iloc[i]['Book-Title']))\n",
    "    top_10_books_output.append(' \\033[4mNumber of Ratings:\\033[0m ')\n",
    "    top_10_books_output.append(str(top_10_books.iloc[i]['Number-Ratings']))\n",
    "    top_10_books_output.append(' \\033[4mAverage Rating:\\033[0m ')\n",
    "    top_10_books_output.append(str(top_10_books.iloc[i]['Average-Rating']))\n",
    "print(''.join(map(str, top_10_books_output)))"
   ]
  }
 ],
 "metadata": {
  "kernelspec": {
   "display_name": "DataScienceProjects",
   "language": "python",
   "name": "python3"
  },
  "language_info": {
   "codemirror_mode": {
    "name": "ipython",
    "version": 3
   },
   "file_extension": ".py",
   "mimetype": "text/x-python",
   "name": "python",
   "nbconvert_exporter": "python",
   "pygments_lexer": "ipython3",
   "version": "3.11.5"
  }
 },
 "nbformat": 4,
 "nbformat_minor": 2
}
